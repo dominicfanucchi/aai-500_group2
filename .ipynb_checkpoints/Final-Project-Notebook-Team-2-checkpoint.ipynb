{
 "cells": [
  {
   "cell_type": "markdown",
   "metadata": {},
   "source": [
    "# Group 2 Final Project Technical Notebook\n",
    "\n",
    "Name(s): Dominic Fanucchi, Bilal Najar, Carlo Sanchez  \n",
    "Date:    September 29, 2023"
   ]
  },
  {
   "cell_type": "code",
   "execution_count": null,
   "metadata": {},
   "outputs": [],
   "source": [
    "import numpy as np\n",
    "import pandas as pd\n",
    "import matplotlib.pyplot as plt\n",
    "from matplotlib import gridspec\n",
    "import math\n",
    "import scipy.stats as stats\n",
    "from sklearn.linear_model import LinearRegression\n",
    "from sklearn.neighbors import KernelDensity\n",
    "import seaborn as sns\n",
    "import random\n",
    "from scipy.stats import norm, dgamma, geom, t"
   ]
  },
  {
   "cell_type": "code",
   "execution_count": null,
   "metadata": {},
   "outputs": [],
   "source": [
    "from ucimlrepo import fetch_ucirepo \n",
    "  \n",
    "# fetch dataset \n",
    "mushroom = fetch_ucirepo(id=73) \n",
    "  \n",
    "# data (as pandas dataframes) \n",
    "X = mushroom.data.features \n",
    "y = mushroom.data.targets \n",
    "  \n",
    "# metadata \n",
    "#print(mushroom.metadata) \n",
    "  \n",
    "# variable information \n",
    "#print(mushroom.variables) "
   ]
  },
  {
   "cell_type": "code",
   "execution_count": null,
   "metadata": {},
   "outputs": [],
   "source": [
    "#set the data into a single dataframe\n",
    "mushroom_df = X.join(y, lsuffix='X', rsuffix='y')\n",
    "#mushroom_df.describe()\n",
    "#print(mushroom_df.head())\n",
    "\n",
    "#get columns of the dataset\n",
    "columns = list(mushroom_df.columns)\n",
    "#print(columns)\n",
    "\n",
    "#examining possible missing values\n",
    "#print(\"Missing values distribution: \")\n",
    "#print(mushroom_df.isnull().mean())\n",
    "mushroom_df=mushroom_df.dropna()\n",
    "print(\"\")\n",
    "#there is missing data from the stalk-root column\n",
    "print(mushroom_df.isnull().mean())\n",
    "\n",
    "#print(mushroom_df)\n",
    "\n",
    "print(mushroom_df['stalk-root'])\n",
    "print(mushroom_df)"
   ]
  }
 ],
 "metadata": {
  "kernelspec": {
   "display_name": "Python 3 (ipykernel)",
   "language": "python",
   "name": "python3"
  },
  "language_info": {
   "codemirror_mode": {
    "name": "ipython",
    "version": 3
   },
   "file_extension": ".py",
   "mimetype": "text/x-python",
   "name": "python",
   "nbconvert_exporter": "python",
   "pygments_lexer": "ipython3",
   "version": "3.11.4"
  }
 },
 "nbformat": 4,
 "nbformat_minor": 2
}
